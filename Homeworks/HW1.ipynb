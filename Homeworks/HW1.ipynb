{
 "cells": [
  {
   "cell_type": "markdown",
   "id": "similar-bunch",
   "metadata": {},
   "source": [
    "## Generating 3x3 matrix with 9 random prime numbers"
   ]
  },
  {
   "cell_type": "code",
   "execution_count": 15,
   "id": "sensitive-angel",
   "metadata": {},
   "outputs": [
    {
     "name": "stdout",
     "output_type": "stream",
     "text": [
      "[13, 11, 97]\n",
      "[19, 29, 2]\n",
      "[19, 2, 43]\n"
     ]
    }
   ],
   "source": [
    "import random\n",
    "\n",
    "def isPrime(num):\n",
    "    for i in range(2,num//2+1):\n",
    "        if (num%i==0):\n",
    "            return False\n",
    "    return True\n",
    "\n",
    "prime_list = []\n",
    "\n",
    "for i in range(101):\n",
    "    if  isPrime(i):\n",
    "        prime_list.append(i)\n",
    "\n",
    "        \n",
    "        \n",
    "for row in range(1,4):\n",
    "    list1 = []\n",
    "    for col in range(1,4):\n",
    "        list1.append(random.choice(prime_list))\n",
    "    print(list1)\n",
    "    \n",
    "\n",
    "\n"
   ]
  },
  {
   "cell_type": "code",
   "execution_count": null,
   "id": "statewide-kruger",
   "metadata": {},
   "outputs": [],
   "source": []
  }
 ],
 "metadata": {
  "kernelspec": {
   "display_name": "Python 3",
   "language": "python",
   "name": "python3"
  },
  "language_info": {
   "codemirror_mode": {
    "name": "ipython",
    "version": 3
   },
   "file_extension": ".py",
   "mimetype": "text/x-python",
   "name": "python",
   "nbconvert_exporter": "python",
   "pygments_lexer": "ipython3",
   "version": "3.9.1"
  }
 },
 "nbformat": 4,
 "nbformat_minor": 5
}
