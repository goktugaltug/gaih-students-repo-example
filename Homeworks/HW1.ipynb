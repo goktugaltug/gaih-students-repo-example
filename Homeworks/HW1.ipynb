{
 "cells": [
  {
   "cell_type": "markdown",
   "id": "similar-bunch",
   "metadata": {},
   "source": [
    "## Generating 3x3 matrix with 9 random prime numbers"
   ]
  },
  {
   "cell_type": "code",
   "execution_count": 1,
   "id": "egyptian-taylor",
   "metadata": {},
   "outputs": [
    {
     "name": "stdout",
     "output_type": "stream",
     "text": [
      "[19, 29, 61]\n",
      "[67, 97, 67]\n",
      "[37, 53, 43]\n"
     ]
    }
   ],
   "source": [
    "import sympy\n",
    "\n",
    "for row in range(1,4):\n",
    "    list1 = []\n",
    "    for col in range(1,4):\n",
    "        num = sympy.randprime(2,100)\n",
    "        list1.append(num)       \n",
    "    print(list1)"
   ]
  }
 ],
 "metadata": {
  "kernelspec": {
   "display_name": "Python 3",
   "language": "python",
   "name": "python3"
  },
  "language_info": {
   "codemirror_mode": {
    "name": "ipython",
    "version": 3
   },
   "file_extension": ".py",
   "mimetype": "text/x-python",
   "name": "python",
   "nbconvert_exporter": "python",
   "pygments_lexer": "ipython3",
   "version": "3.9.1"
  }
 },
 "nbformat": 4,
 "nbformat_minor": 5
}
