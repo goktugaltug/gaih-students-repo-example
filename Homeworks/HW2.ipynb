{
 "cells": [
  {
   "cell_type": "markdown",
   "id": "french-vegetation",
   "metadata": {},
   "source": [
    "## Creating 5 students and their notes and add them in lists"
   ]
  },
  {
   "cell_type": "code",
   "execution_count": null,
   "id": "lesbian-execution",
   "metadata": {},
   "outputs": [],
   "source": [
    "i = 0\n",
    "j = 0\n",
    "student_list = []\n",
    "grade_list = []\n",
    "\n",
    "while i < 5:\n",
    "    subGrade_list = []\n",
    "    name_surname = input(\"please enter your name and surname: \")\n",
    "    student_list.append(name_surname)\n",
    "    grade1 = int(input(\"Please enter first grade: \"))\n",
    "    grade2 = int(input(\"Please enter second grade: \"))\n",
    "    grade3 = int(input(\"Please enter third grade: \"))\n",
    "    \n",
    "    if  0 <= grade1 <= 100 and 0 <= grade2 <= 100 and 0 <= grade3 <= 100:\n",
    "        subGrade_list.append(grade1)\n",
    "        subGrade_list.append(grade2)\n",
    "        subGrade_list.append(grade3)\n",
    "        grade_list.append(subGrade_list)\n",
    "        i += 1\n",
    "    else:\n",
    "        print(\"Please enter a valid value\")\n",
    "        break\n",
    "\n",
    "\n",
    "print(\"Student list: \", student_list,\"\\n\")\n",
    "print(\"Grade list: \\n\", grade_list)\n",
    "\n",
    "\n"
   ]
  },
  {
   "cell_type": "markdown",
   "id": "fifty-elephant",
   "metadata": {},
   "source": [
    "## Zipping the student list values and their grades"
   ]
  },
  {
   "cell_type": "code",
   "execution_count": null,
   "id": "banner-teach",
   "metadata": {},
   "outputs": [],
   "source": [
    "info = dict()\n",
    "\n",
    "for i in range(5):\n",
    "    info[student_list[i]] = grade_list[i]\n",
    "    \n",
    "    \n",
    "print(info)    "
   ]
  },
  {
   "cell_type": "markdown",
   "id": "corrected-broadcasting",
   "metadata": {},
   "source": [
    "## Finding means of each students grade"
   ]
  },
  {
   "cell_type": "code",
   "execution_count": null,
   "id": "harmful-twist",
   "metadata": {},
   "outputs": [],
   "source": [
    "meanGrade_list = []\n",
    "meanGrade_dic = {}\n",
    "# Finding each mean of students grades and putting them in a list\n",
    "\n",
    "for i in grade_list:\n",
    "    total = i[0] + i[1] + i[2]\n",
    "    mean = total / 3\n",
    "    meanGrade_list.append(mean)\n",
    "\n",
    "    \n",
    "# Again zipping students and their mean grades\n",
    "# for identifying whose mean grades these are\n",
    "\n",
    "for i in range(5):\n",
    "    meanGrade_dic[student_list[i]] = meanGrade_list[i]\n",
    "    \n",
    "print(\"Dictionary of Means:\\n\", meanGrade_dic)    "
   ]
  },
  {
   "cell_type": "markdown",
   "id": "random-lending",
   "metadata": {},
   "source": [
    "##  Sorting means in descending order and Find the Highest Grade and Congrats the Student"
   ]
  },
  {
   "cell_type": "code",
   "execution_count": null,
   "id": "friendly-leather",
   "metadata": {},
   "outputs": [],
   "source": [
    "for i in range(len(meanGrade_list)):\n",
    "    for j in range(len(meanGrade_list)):\n",
    "        if meanGrade_list[j] < meanGrade_list[i]:\n",
    "            meanGrade_list[i], meanGrade_list[j] = meanGrade_list[j],meanGrade_list[i]\n",
    "            \n",
    "    \n",
    "print(\"Sorted lists of Means in descending order:\\n\", meanGrade_list,\"\\n\\n\")\n",
    "\n",
    "\n",
    "maxGrade = meanGrade_list[0]\n",
    "\n",
    "for i in meanGrade_dic.keys():\n",
    "    if meanGrade_dic[i] == maxGrade:\n",
    "        print(f\"Congrats {i} !! You got the Highest score! \")"
   ]
  },
  {
   "cell_type": "code",
   "execution_count": null,
   "id": "valid-yacht",
   "metadata": {},
   "outputs": [],
   "source": []
  }
 ],
 "metadata": {
  "kernelspec": {
   "display_name": "Python 3",
   "language": "python",
   "name": "python3"
  },
  "language_info": {
   "codemirror_mode": {
    "name": "ipython",
    "version": 3
   },
   "file_extension": ".py",
   "mimetype": "text/x-python",
   "name": "python",
   "nbconvert_exporter": "python",
   "pygments_lexer": "ipython3",
   "version": "3.9.1"
  }
 },
 "nbformat": 4,
 "nbformat_minor": 5
}
